{
 "cells": [
  {
   "cell_type": "markdown",
   "id": "8408fc69",
   "metadata": {},
   "source": [
    "# Imports"
   ]
  },
  {
   "cell_type": "code",
   "execution_count": 1,
   "id": "3f463e7c",
   "metadata": {},
   "outputs": [],
   "source": [
    "import torch\n",
    "import torch.nn as nn\n",
    "import torch.nn.functional as F\n",
    "import torch.optim as optim\n",
    "\n",
    "from torch_scatter import scatter\n",
    "\n",
    "import torch_geometric\n",
    "from torch_geometric.datasets import Planetoid\n",
    "from torch_geometric.transforms import NormalizeFeatures, line_graph\n",
    "from torch_geometric.nn import GATv2Conv\n",
    "from torch_geometric.utils import softmax\n",
    "\n",
    "import numpy as np\n",
    "import pandas as pd\n",
    "import utils"
   ]
  },
  {
   "cell_type": "markdown",
   "id": "07616f4a",
   "metadata": {},
   "source": [
    "# Data Overview"
   ]
  },
  {
   "cell_type": "code",
   "execution_count": 3,
   "id": "026cfca2",
   "metadata": {},
   "outputs": [
    {
     "name": "stdout",
     "output_type": "stream",
     "text": [
      "      A1BG   A1CF    A2M  A2ML1  A4GALT  A4GNT   AAAS   AACS  AADAC  AADACL2  ...   ZXDA   ZXDB   ZXDC  ZYG11A  ZYG11B    ZYX  ZZEF1   ZZZ3        sample  icluster_cluster_assignment\n",
      "610  0.000 -0.468  0.186  0.186  -0.596  0.259 -0.503 -0.470  0.259    0.259  ...  0.274  0.274  0.259   0.069   0.069  0.209 -0.567  0.249  TCGA-3C-AAAU                           19\n",
      "611  0.096 -0.461 -0.007 -0.007  -0.533  0.476  0.000  0.000  0.476    0.476  ...  0.822  0.822  0.476  -0.440  -0.440  0.454 -0.525 -0.440  TCGA-3C-AALI                            2\n",
      "612  0.005  0.034  0.025  0.025  -0.692 -0.136 -0.319  0.371 -0.136   -0.136  ... -0.063 -0.063 -0.137  -0.324  -0.324 -0.003 -0.694 -0.324  TCGA-3C-AALJ                           17\n",
      "613 -0.014  0.014 -0.002 -0.002   0.020 -0.058  0.000  0.000 -0.058   -0.058  ...  0.011  0.011 -0.058  -0.023  -0.023  0.014 -0.644 -0.023  TCGA-3C-AALK                            2\n",
      "749  0.295  0.009 -0.344 -0.344  -0.028 -0.003 -0.015 -0.015 -0.003   -0.003  ... -0.020 -0.020 -0.001   0.000   0.000 -0.004 -0.669  0.000  TCGA-4H-AAAK                           19\n",
      "\n",
      "[5 rows x 17946 columns]\n"
     ]
    }
   ],
   "source": [
    "#pd.describe_option('display.width')\n",
    "pd.set_option('display.width', 200)\n",
    "cnv_data = pd.read_csv('data/cnv_data_brca.tsv', index_col=0, header=0, sep='\\t')\n",
    "print(cnv_data.head())"
   ]
  },
  {
   "cell_type": "code",
   "execution_count": 4,
   "id": "b0a5921f",
   "metadata": {},
   "outputs": [
    {
     "name": "stdout",
     "output_type": "stream",
     "text": [
      "        patient subtype\n",
      "0  TCGA-3C-AAAU    LumA\n",
      "1  TCGA-3C-AALI    Her2\n",
      "2  TCGA-3C-AALJ    LumB\n",
      "3  TCGA-3C-AALK    LumA\n",
      "4  TCGA-4H-AAAK    LumA\n",
      "5  TCGA-5L-AAT0    LumA\n",
      "6  TCGA-5L-AAT1    LumA\n",
      "7  TCGA-5T-A9QA    LumB\n",
      "8  TCGA-A1-A0SD    LumA\n",
      "9  TCGA-A1-A0SE    LumA\n"
     ]
    }
   ],
   "source": [
    "brca_subtype = pd.read_csv('data/brca_subtype.csv', header=0)\n",
    "print(brca_subtype[:10])"
   ]
  },
  {
   "cell_type": "code",
   "execution_count": 5,
   "id": "0df7238c",
   "metadata": {},
   "outputs": [
    {
     "name": "stdout",
     "output_type": "stream",
     "text": [
      "(981, 17947)\n",
      "   Unnamed: 0      A1BG      A1CF       A2M     A2ML1    A4GALT     A4GNT      AAAS      AACS     AADAC  ...      ZXDA      ZXDB      ZXDC    ZYG11A    ZYG11B       ZYX     ZZEF1      ZZZ3  \\\n",
      "0         610  0.446721  0.000000  0.731850  0.073185  0.357728  0.191452  0.547424  0.590749  0.000000  ...  0.411593  0.584309  0.626464  0.469555  0.599532  0.689696  0.637588  0.597775   \n",
      "1         611  0.449630  0.000000  0.733637  0.137735  0.416050  0.035857  0.557769  0.552647  0.060330  ...  0.337507  0.501423  0.591349  0.434832  0.525896  0.707456  0.590211  0.493455   \n",
      "2         612  0.500000  0.053265  0.750859  0.000000  0.525200  0.000000  0.544101  0.605956  0.053265  ...  0.296678  0.518900  0.549255  0.479954  0.518900  0.710767  0.565865  0.515464   \n",
      "3         613  0.405232  0.000000  0.716498  0.075280  0.479979  0.000000  0.512547  0.520555  0.104645  ...  0.310198  0.468767  0.521089  0.398292  0.493860  0.665777  0.513081  0.505072   \n",
      "4         749  0.433012  0.027331  0.709003  0.114684  0.451233  0.027331  0.518757  0.520900  0.027331  ...  0.302251  0.467846  0.538049  0.209539  0.514469  0.642015  0.519829  0.524652   \n",
      "\n",
      "         sample  icluster_cluster_assignment  \n",
      "0  TCGA-3C-AAAU                           19  \n",
      "1  TCGA-3C-AALI                            2  \n",
      "2  TCGA-3C-AALJ                           17  \n",
      "3  TCGA-3C-AALK                            2  \n",
      "4  TCGA-4H-AAAK                           19  \n",
      "\n",
      "[5 rows x 17947 columns]\n"
     ]
    }
   ],
   "source": [
    "expression_data = pd.read_csv('data/expression_data_brca.tsv', sep='\\t', header=0)\n",
    "print(expression_data.shape)\n",
    "print(expression_data.head())\n",
    "# print(expression_data.iloc[5, 3])\n",
    "# This would be the expression of the 5th gene in the 3rd sample"
   ]
  },
  {
   "cell_type": "code",
   "execution_count": 6,
   "id": "7d157e59",
   "metadata": {},
   "outputs": [
    {
     "name": "stdout",
     "output_type": "stream",
     "text": [
      "Number of unique samples in CNV data: 981\n",
      "Number of unique samples in expression data: 981\n"
     ]
    }
   ],
   "source": [
    "# Check number of unique samples (in sample column) and ensure they match the rest of the data\n",
    "print(\"Number of unique samples in CNV data:\", cnv_data['sample'].nunique())\n",
    "print(\"Number of unique samples in expression data:\", expression_data['sample'].nunique()) "
   ]
  },
  {
   "cell_type": "code",
   "execution_count": 7,
   "id": "6a362c55",
   "metadata": {},
   "outputs": [
    {
     "name": "stdout",
     "output_type": "stream",
     "text": [
      "1045\n",
      "Number of overlapping samples: 981\n",
      "Example overlapping IDs: ['TCGA-A8-A06O', 'TCGA-AR-A0U3', 'TCGA-AN-A0AJ', 'TCGA-B6-A0X4', 'TCGA-BH-A18S', 'TCGA-A2-A0YH', 'TCGA-A8-A08A', 'TCGA-E2-A3DX', 'TCGA-A2-A0EP', 'TCGA-A2-A1G0']\n"
     ]
    }
   ],
   "source": [
    "brca_subtype = pd.read_csv('data/brca_subtype.csv', sep=',', header=0)\n",
    "print(brca_subtype['patient'].nunique())\n",
    "\n",
    "# Check overlap between 'patient' in brca_subtype and 'sample' in cnv_data\n",
    "overlap = set(brca_subtype['patient']).intersection(set(cnv_data['sample']))\n",
    "print(f\"Number of overlapping samples: {len(overlap)}\")\n",
    "print(f\"Example overlapping IDs: {list(overlap)[:10]}\")"
   ]
  },
  {
   "cell_type": "code",
   "execution_count": 13,
   "id": "3187e545",
   "metadata": {},
   "outputs": [
    {
     "name": "stdout",
     "output_type": "stream",
     "text": [
      "indices\n",
      "[ 2156 16356 17063 ... 17853 17889 17913]\n",
      "(868686,)\n",
      "indptr\n",
      "[     0      4      4 ... 868568 868577 868686]\n",
      "(17945,)\n",
      "format\n",
      "b'csr'\n",
      "()\n",
      "shape\n",
      "[17944 17944]\n",
      "(2,)\n",
      "data\n",
      "[1. 1. 1. ... 1. 2. 1.]\n",
      "(868686,)\n"
     ]
    }
   ],
   "source": [
    "gene_interactions = np.load('data/adj_matrix_biogrid.npz')\n",
    "bg_nonnull = pd.read_csv('data/biogrid_non_null.csv', sep=',', header=0)\n",
    "\n",
    "for item in gene_interactions:\n",
    "    print(item)\n",
    "    print(gene_interactions[item])\n",
    "    print(gene_interactions[item].shape)\n",
    "\n",
    "# ar = gene_interactions['data']\n",
    "\n",
    "# stuff = pd.DataFrame(ar)\n",
    "# print(stuff.head())\n",
    "# print(stuff.shape)"
   ]
  },
  {
   "cell_type": "code",
   "execution_count": 9,
   "id": "1c672e84",
   "metadata": {},
   "outputs": [
    {
     "name": "stdout",
     "output_type": "stream",
     "text": [
      "22\n",
      "          gene  matrix_index\n",
      "1400     KIF14          1542\n",
      "1950    COMMD1          2159\n",
      "3352      MCM2          3655\n",
      "4117   METTL14          4481\n",
      "4746    KIF20A          5153\n",
      "5472      CUL7          5945\n",
      "6370     MEPCE          6916\n",
      "8646      DKK3          9491\n",
      "9417     HSPA8         10365\n",
      "10263      CIT         11307\n",
      "10974     DLST         12073\n",
      "11428    KIF23         12569\n",
      "11469      CSK         12614\n",
      "11596     PRC1         12754\n",
      "11841     GDE1         13025\n",
      "11963    PHKG2         13156\n",
      "12487    AURKB         13723\n",
      "12804    KRT17         14072\n",
      "13009   TRIM25         14285\n",
      "14401  PLEKHA4         15798\n",
      "15034   PARD6B         16509\n",
      "16285   MAGEA3         17875\n",
      "Max value: 1.0, at index: 1542, gene name: KIF14\n"
     ]
    }
   ],
   "source": [
    "from scipy.sparse import csr_matrix\n",
    "adj_matrix = csr_matrix(\n",
    "    (gene_interactions['data'],\n",
    "     gene_interactions['indices'],\n",
    "     gene_interactions['indptr']),\n",
    "    shape=tuple(gene_interactions['shape'])\n",
    ")\n",
    "\n",
    "index_choice = input(\"Enter index: \")\n",
    "index_choice = int(index_choice)\n",
    "\n",
    "start = adj_matrix.indptr[index_choice]\n",
    "end = adj_matrix.indptr[index_choice + 1]\n",
    "\n",
    "indices = adj_matrix.indices[start:end]\n",
    "values = adj_matrix.data[start:end]\n",
    "\n",
    "gene_names = bg_nonnull[bg_nonnull['matrix_index'].isin(indices)]\n",
    "print(len(gene_names))\n",
    "print(gene_names)\n",
    "maxval = 0\n",
    "maxindex = 0\n",
    "for i, v in zip(indices, values):\n",
    "    if v > maxval: maxval = v; maxindex = i\n",
    "    #print(f\"index: {i}, value: {v}, gene name: {gene_names[gene_names['matrix_index'] == i]['gene'].values[0]}\")\n",
    "\n",
    "print(f\"Max value: {maxval}, at index: {maxindex}, gene name: {gene_names[gene_names['matrix_index'] == maxindex]['gene'].values[0]}\")\n",
    "\n"
   ]
  },
  {
   "cell_type": "code",
   "execution_count": null,
   "id": "3b5b7f0b",
   "metadata": {},
   "outputs": [
    {
     "name": "stdout",
     "output_type": "stream",
     "text": [
      "(981, 200)\n",
      "Index(['KRT5', 'CEACAM5', 'KRT6A', 'XIST', 'CEACAM6', 'AGR2', 'KRT14', 'KRT6B', 'SLC34A2', 'KRT16',\n",
      "       ...\n",
      "       'SFTPA1', 'SPRR2D', 'ALB', 'MAGEA4', 'ST6GALNAC1', 'GGT6', 'SLC17A1', 'APOA2', 'EMX2', 'KLK2'],\n",
      "      dtype='object', length=200)\n"
     ]
    },
    {
     "ename": "KeyError",
     "evalue": "'TCGA-3C-AAAU'",
     "output_type": "error",
     "traceback": [
      "\u001b[0;31m---------------------------------------------------------------------------\u001b[0m",
      "\u001b[0;31mKeyError\u001b[0m                                  Traceback (most recent call last)",
      "\u001b[0;32m~/miniconda3/envs/torch11/lib/python3.7/site-packages/pandas/core/indexes/base.py\u001b[0m in \u001b[0;36mget_loc\u001b[0;34m(self, key, method, tolerance)\u001b[0m\n\u001b[1;32m   3360\u001b[0m             \u001b[0;32mtry\u001b[0m\u001b[0;34m:\u001b[0m\u001b[0;34m\u001b[0m\u001b[0;34m\u001b[0m\u001b[0m\n\u001b[0;32m-> 3361\u001b[0;31m                 \u001b[0;32mreturn\u001b[0m \u001b[0mself\u001b[0m\u001b[0;34m.\u001b[0m\u001b[0m_engine\u001b[0m\u001b[0;34m.\u001b[0m\u001b[0mget_loc\u001b[0m\u001b[0;34m(\u001b[0m\u001b[0mcasted_key\u001b[0m\u001b[0;34m)\u001b[0m\u001b[0;34m\u001b[0m\u001b[0;34m\u001b[0m\u001b[0m\n\u001b[0m\u001b[1;32m   3362\u001b[0m             \u001b[0;32mexcept\u001b[0m \u001b[0mKeyError\u001b[0m \u001b[0;32mas\u001b[0m \u001b[0merr\u001b[0m\u001b[0;34m:\u001b[0m\u001b[0;34m\u001b[0m\u001b[0;34m\u001b[0m\u001b[0m\n",
      "\u001b[0;32m~/miniconda3/envs/torch11/lib/python3.7/site-packages/pandas/_libs/index.pyx\u001b[0m in \u001b[0;36mpandas._libs.index.IndexEngine.get_loc\u001b[0;34m()\u001b[0m\n",
      "\u001b[0;32m~/miniconda3/envs/torch11/lib/python3.7/site-packages/pandas/_libs/index.pyx\u001b[0m in \u001b[0;36mpandas._libs.index.IndexEngine.get_loc\u001b[0;34m()\u001b[0m\n",
      "\u001b[0;32mpandas/_libs/hashtable_class_helper.pxi\u001b[0m in \u001b[0;36mpandas._libs.hashtable.PyObjectHashTable.get_item\u001b[0;34m()\u001b[0m\n",
      "\u001b[0;32mpandas/_libs/hashtable_class_helper.pxi\u001b[0m in \u001b[0;36mpandas._libs.hashtable.PyObjectHashTable.get_item\u001b[0;34m()\u001b[0m\n",
      "\u001b[0;31mKeyError\u001b[0m: 'TCGA-3C-AAAU'",
      "\nThe above exception was the direct cause of the following exception:\n",
      "\u001b[0;31mKeyError\u001b[0m                                  Traceback (most recent call last)",
      "\u001b[0;32m/tmp/ipykernel_787586/3988404616.py\u001b[0m in \u001b[0;36m<module>\u001b[0;34m\u001b[0m\n\u001b[1;32m     12\u001b[0m \u001b[0mprint\u001b[0m\u001b[0;34m(\u001b[0m\u001b[0mfiltered_gene_expression\u001b[0m\u001b[0;34m.\u001b[0m\u001b[0mshape\u001b[0m\u001b[0;34m)\u001b[0m\u001b[0;34m\u001b[0m\u001b[0;34m\u001b[0m\u001b[0m\n\u001b[1;32m     13\u001b[0m \u001b[0mprint\u001b[0m\u001b[0;34m(\u001b[0m\u001b[0mfiltered_gene_expression\u001b[0m\u001b[0;34m.\u001b[0m\u001b[0mkeys\u001b[0m\u001b[0;34m(\u001b[0m\u001b[0;34m)\u001b[0m\u001b[0;34m)\u001b[0m\u001b[0;34m\u001b[0m\u001b[0;34m\u001b[0m\u001b[0m\n\u001b[0;32m---> 14\u001b[0;31m \u001b[0mprint\u001b[0m\u001b[0;34m(\u001b[0m\u001b[0mfiltered_gene_expression\u001b[0m\u001b[0;34m[\u001b[0m\u001b[0;34m'TCGA-3C-AAAU'\u001b[0m\u001b[0;34m]\u001b[0m\u001b[0;34m)\u001b[0m\u001b[0;34m\u001b[0m\u001b[0;34m\u001b[0m\u001b[0m\n\u001b[0m\u001b[1;32m     15\u001b[0m \u001b[0mfiltered_index_df\u001b[0m \u001b[0;34m=\u001b[0m \u001b[0mpd\u001b[0m\u001b[0;34m.\u001b[0m\u001b[0mDataFrame\u001b[0m\u001b[0;34m(\u001b[0m\u001b[0;34m{\u001b[0m\u001b[0;34m'gene'\u001b[0m\u001b[0;34m:\u001b[0m\u001b[0mtop_200_genes\u001b[0m\u001b[0;34m}\u001b[0m\u001b[0;34m)\u001b[0m\u001b[0;34m\u001b[0m\u001b[0;34m\u001b[0m\u001b[0m\n",
      "\u001b[0;32m~/miniconda3/envs/torch11/lib/python3.7/site-packages/pandas/core/frame.py\u001b[0m in \u001b[0;36m__getitem__\u001b[0;34m(self, key)\u001b[0m\n\u001b[1;32m   3456\u001b[0m             \u001b[0;32mif\u001b[0m \u001b[0mself\u001b[0m\u001b[0;34m.\u001b[0m\u001b[0mcolumns\u001b[0m\u001b[0;34m.\u001b[0m\u001b[0mnlevels\u001b[0m \u001b[0;34m>\u001b[0m \u001b[0;36m1\u001b[0m\u001b[0;34m:\u001b[0m\u001b[0;34m\u001b[0m\u001b[0;34m\u001b[0m\u001b[0m\n\u001b[1;32m   3457\u001b[0m                 \u001b[0;32mreturn\u001b[0m \u001b[0mself\u001b[0m\u001b[0;34m.\u001b[0m\u001b[0m_getitem_multilevel\u001b[0m\u001b[0;34m(\u001b[0m\u001b[0mkey\u001b[0m\u001b[0;34m)\u001b[0m\u001b[0;34m\u001b[0m\u001b[0;34m\u001b[0m\u001b[0m\n\u001b[0;32m-> 3458\u001b[0;31m             \u001b[0mindexer\u001b[0m \u001b[0;34m=\u001b[0m \u001b[0mself\u001b[0m\u001b[0;34m.\u001b[0m\u001b[0mcolumns\u001b[0m\u001b[0;34m.\u001b[0m\u001b[0mget_loc\u001b[0m\u001b[0;34m(\u001b[0m\u001b[0mkey\u001b[0m\u001b[0;34m)\u001b[0m\u001b[0;34m\u001b[0m\u001b[0;34m\u001b[0m\u001b[0m\n\u001b[0m\u001b[1;32m   3459\u001b[0m             \u001b[0;32mif\u001b[0m \u001b[0mis_integer\u001b[0m\u001b[0;34m(\u001b[0m\u001b[0mindexer\u001b[0m\u001b[0;34m)\u001b[0m\u001b[0;34m:\u001b[0m\u001b[0;34m\u001b[0m\u001b[0;34m\u001b[0m\u001b[0m\n\u001b[1;32m   3460\u001b[0m                 \u001b[0mindexer\u001b[0m \u001b[0;34m=\u001b[0m \u001b[0;34m[\u001b[0m\u001b[0mindexer\u001b[0m\u001b[0;34m]\u001b[0m\u001b[0;34m\u001b[0m\u001b[0;34m\u001b[0m\u001b[0m\n",
      "\u001b[0;32m~/miniconda3/envs/torch11/lib/python3.7/site-packages/pandas/core/indexes/base.py\u001b[0m in \u001b[0;36mget_loc\u001b[0;34m(self, key, method, tolerance)\u001b[0m\n\u001b[1;32m   3361\u001b[0m                 \u001b[0;32mreturn\u001b[0m \u001b[0mself\u001b[0m\u001b[0;34m.\u001b[0m\u001b[0m_engine\u001b[0m\u001b[0;34m.\u001b[0m\u001b[0mget_loc\u001b[0m\u001b[0;34m(\u001b[0m\u001b[0mcasted_key\u001b[0m\u001b[0;34m)\u001b[0m\u001b[0;34m\u001b[0m\u001b[0;34m\u001b[0m\u001b[0m\n\u001b[1;32m   3362\u001b[0m             \u001b[0;32mexcept\u001b[0m \u001b[0mKeyError\u001b[0m \u001b[0;32mas\u001b[0m \u001b[0merr\u001b[0m\u001b[0;34m:\u001b[0m\u001b[0;34m\u001b[0m\u001b[0;34m\u001b[0m\u001b[0m\n\u001b[0;32m-> 3363\u001b[0;31m                 \u001b[0;32mraise\u001b[0m \u001b[0mKeyError\u001b[0m\u001b[0;34m(\u001b[0m\u001b[0mkey\u001b[0m\u001b[0;34m)\u001b[0m \u001b[0;32mfrom\u001b[0m \u001b[0merr\u001b[0m\u001b[0;34m\u001b[0m\u001b[0;34m\u001b[0m\u001b[0m\n\u001b[0m\u001b[1;32m   3364\u001b[0m \u001b[0;34m\u001b[0m\u001b[0m\n\u001b[1;32m   3365\u001b[0m         \u001b[0;32mif\u001b[0m \u001b[0mis_scalar\u001b[0m\u001b[0;34m(\u001b[0m\u001b[0mkey\u001b[0m\u001b[0;34m)\u001b[0m \u001b[0;32mand\u001b[0m \u001b[0misna\u001b[0m\u001b[0;34m(\u001b[0m\u001b[0mkey\u001b[0m\u001b[0;34m)\u001b[0m \u001b[0;32mand\u001b[0m \u001b[0;32mnot\u001b[0m \u001b[0mself\u001b[0m\u001b[0;34m.\u001b[0m\u001b[0mhasnans\u001b[0m\u001b[0;34m:\u001b[0m\u001b[0;34m\u001b[0m\u001b[0;34m\u001b[0m\u001b[0m\n",
      "\u001b[0;31mKeyError\u001b[0m: 'TCGA-3C-AAAU'"
     ]
    }
   ],
   "source": [
    "gene_variance = pd.read_csv('data/expression_variance.tsv', sep='\\t', header=0)\n",
    "\n",
    "\n",
    "gene_variance = gene_variance[gene_variance['sample'].isin(bg_nonnull['gene'])] # Filter by genes present in non-null csv\n",
    "\n",
    "\n",
    "top_200_genes = gene_variance.nlargest(200, 'variance')['sample'].tolist()      # Get top 200 by variance\n",
    "\n",
    "\n",
    "filtered_gene_expression = expression_data[top_200_genes + ['sample']]          # Filter expression data only to genes we want but keep sample id\n",
    "filtered_gene_expression = filtered_gene_expression.set_index('sample')\n",
    "print(filtered_gene_expression.shape)\n",
    "print(filtered_gene_expression)\n",
    "print(filtered_gene_expression['TCGA-3C-AAAU'])\n",
    "filtered_index_df = pd.DataFrame({'gene':top_200_genes})"
   ]
  },
  {
   "cell_type": "markdown",
   "id": "c040acf5",
   "metadata": {},
   "source": [
    "# Node Attention Layer"
   ]
  },
  {
   "cell_type": "code",
   "execution_count": null,
   "id": "6a132a80",
   "metadata": {},
   "outputs": [],
   "source": [
    "class NodeAttentionLayer(nn.Module):\n",
    "    def __init__(self, nodeDim, edgeDim, hidDim):\n",
    "        super().__init__()\n",
    "\n",
    "        self.node_linear = nn.Linear(nodeDim, hidDim)\n",
    "        self.edge_linear = nn.Linear(edgeDim, hidDim)\n",
    "\n",
    "        self.node_attention = nn.Linear(2*hidDim, 1)\n",
    "        self.edge_attention = nn.Linear(2*hidDim, 1)\n",
    "\n",
    "        self.leaky_relu = nn.LeakyReLU(0.05)\n",
    "\n",
    "    def forward(self, x, edge_index, edge_attr):\n",
    "        N = x.size(0)\n",
    "        E = edge_attr.size(0)\n",
    "\n",
    "        h = self.node_linear(x)             #[N, hidDim]\n",
    "        g = self.edge_linear(edge_attr)     #[E, hidDim]\n",
    "\n",
    "        # Gather structural neighborhood structural info\n",
    "        i_idx, j_idx = edge_index\n",
    "        h_i = h[i_idx]                      #[E, hidDim]\n",
    "        h_j = h[j_idx]                      #[E, hidDim]\n",
    "        g_k = g                             #[E, hidDim]\n",
    "\n",
    "        # Node neighbor attention scores\n",
    "        # e_ij = LeakyReLU( aᵀ · [h_i ∥ h_j] )\n",
    "        e_ij = self.leaky_relu(self.node_attention(torch.cat([h_i, h_j], dim=1))).squeeze(-1)   # [E]\n",
    "\n",
    "        # Normalize per-target-node i over its neighbors j ∈ N(i)\n",
    "        a_n = softmax(e_ij, i_idx)      # [E]\n",
    "\n",
    "        # Embedding aggregation\n",
    "        x_nodes = scatter(a_n.unsqueeze(-1) * h_j, i_idx, dim=0, dim_size=N, reduce='mean')     # [N, hidDim]\n",
    "        x_nodes = self.leaky_relu(x_nodes)\n",
    "\n",
    "        # Edge neighbor attention scores\n",
    "        # e_i⁽edge⁾ = LeakyReLU( bᵀ · [h_i ∥ g_k] )\n",
    "        e_ie = self.leaky_relu(self.edge_attention(torch.cat([h_i, g_k], dim=1))).squeeze(-1)   # [E]\n",
    "\n",
    "        # Normalize over edges k ∈ E(i)\n",
    "        a_e = softmax(e_ie, i_idx)      # [E]\n",
    "\n",
    "        # Embedding aggregation\n",
    "        x_edges = scatter(a_e.unsqueeze(-1) * g_k, i_idx, dim=0, dim_size=N, reduce='mean')     # [N, hidDim]\n",
    "        x_edges = self.leaky_relu(x_edges)\n",
    "\n",
    "        # Concat and return\n",
    "        return torch.cat([x_nodes, x_edges], dim=1)     # [N, 2*hidDim]"
   ]
  },
  {
   "cell_type": "markdown",
   "id": "67699d50",
   "metadata": {},
   "source": [
    "# Edge Attention Layer"
   ]
  },
  {
   "cell_type": "code",
   "execution_count": null,
   "id": "912cbf13",
   "metadata": {},
   "outputs": [],
   "source": [
    "class EdgeAttentionLayer(nn.Module):\n",
    "    def __init__(self, nodeDim, edgeDim, hidDim):\n",
    "        super().__init__()\n",
    "\n",
    "        self.node_linear = nn.Linear(nodeDim, hidDim)\n",
    "        self.edge_linear = nn.Linear(edgeDim, hidDim)\n",
    "\n",
    "        self.edge_attention = nn.Linear(2*hidDim, 1)\n",
    "        self.node_attention = nn.Linear(2*hidDim, 1)\n",
    "\n",
    "        self.leaky_relu = nn.LeakyReLU(0.05)\n",
    "\n",
    "    def forward(self, x, edge_index, edge_attr):\n",
    "        N = x.size(0)\n",
    "        E = edge_attr.size(0)\n",
    "\n",
    "        h = self.node_linear(x)             #[N, hidDim]\n",
    "        g = self.edge_linear(edge_attr)     #[E, hidDim]\n",
    "\n",
    "        # Gather edge endpoints\n",
    "        u_idx, v_idx = edge_index           # Both [E]\n",
    "        edge_idx = torch.arange(E, device=g.device)\n",
    "\n",
    "        # Replicate for 2 endpoints\n",
    "        edge_idx_rep = edge_idx.repeat(2)\n",
    "        node_feats = torch.cat([h[u_idx], h[v_idx]], dim=0)\n",
    "        edge_feats_rep = g[edge_idx_rep]\n",
    "\n",
    "        # Node attention (need better explanation of edge prep)\n",
    "        e_en = self.leaky_relu(self.node_attention(torch.cat([edge_feats_rep, node_feats], dim=1))).squeeze(-1)\n",
    "        B_n = softmax(e_en, edge_idx_rep)\n",
    "        # Embedding aggregation\n",
    "        e_from_nodes = scatter(B_n.unsqueeze(-1) * node_feats, edge_idx_rep, dim=0, dim_size=E, reduce='mean')\n",
    "        e_from_nodes = self.leaky_relu(e_from_nodes)\n",
    "\n",
    "        # Build edge-edge adjacency with line_graph\n",
    "        edge_edge_index, _ = line_graph(edge_index, force_undirected=False)     # [2, #pairs]\n",
    "\n",
    "        row_e, col_e = edge_edge_index\n",
    "\n",
    "        # Edge attention (need better explanation of edge setup w/ line_graph)\n",
    "        e_ee = self.leaky_relu(self.edge_attention(torch.cat([g[row_e], g[col_e]], dim=1))).squeeze(-1)\n",
    "        B_e = softmax(e_ee, row_e)\n",
    "        # Embedding aggregation\n",
    "        e_from_edges = scatter(B_e.unsqueeze(-1) * g[col_e], row_e, dim=0, dim_size=E, reduce='mean')\n",
    "        e_from_edges = self.leaky_relu(e_from_edges)\n",
    "\n",
    "        # Concat and return\n",
    "        return torch.cat([e_from_nodes, e_from_edges], dim=1)"
   ]
  },
  {
   "cell_type": "markdown",
   "id": "12eb66f0",
   "metadata": {},
   "source": [
    "# Full Network"
   ]
  },
  {
   "cell_type": "code",
   "execution_count": null,
   "id": "9a42c862",
   "metadata": {},
   "outputs": [
    {
     "ename": "SyntaxError",
     "evalue": "unexpected EOF while parsing (3039522207.py, line 2)",
     "output_type": "error",
     "traceback": [
      "\u001b[0;36m  File \u001b[0;32m\"/tmp/ipykernel_625255/3039522207.py\"\u001b[0;36m, line \u001b[0;32m2\u001b[0m\n\u001b[0;31m    \u001b[0m\n\u001b[0m    ^\u001b[0m\n\u001b[0;31mSyntaxError\u001b[0m\u001b[0;31m:\u001b[0m unexpected EOF while parsing\n"
     ]
    }
   ],
   "source": [
    "class HierarchicalDualAttentionModel(nn.Module):\n",
    "    "
   ]
  }
 ],
 "metadata": {
  "kernelspec": {
   "display_name": "torch11",
   "language": "python",
   "name": "python3"
  },
  "language_info": {
   "codemirror_mode": {
    "name": "ipython",
    "version": 3
   },
   "file_extension": ".py",
   "mimetype": "text/x-python",
   "name": "python",
   "nbconvert_exporter": "python",
   "pygments_lexer": "ipython3",
   "version": "3.7.13"
  }
 },
 "nbformat": 4,
 "nbformat_minor": 5
}
